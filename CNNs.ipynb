{
 "cells": [
  {
   "cell_type": "markdown",
   "id": "bdf215e1",
   "metadata": {},
   "source": [
    "# Backpropagation in CNN"
   ]
  },
  {
   "cell_type": "markdown",
   "id": "097a2bb5",
   "metadata": {},
   "source": [
    "We will implement a simple CNN to classify a generated image into one of two classes: rectangles or crosses. This notebook will guide you through the given/find exercise, and will perform exacly one forward/backward pass through the CNN. A full implementation with training and testing of the network is profided in the CNNs.py file. This demonstrates that the solution in fact works, and achieves a high score in testing.\n",
    "#### Given: Architecture of the CNN\n",
    "Input: One channel (5x5) matrix with random values np.random.uniform(0, 1) arranged in shape of either a cross or a rectangle according to the indices in cross_indices or rectangle indices.\n",
    "\n",
    "Convolution: Convolutional layer with kernel size=(3, 3), stride=1, padding=0, that uses ReLU as activation function. Upon initialization, bias=1 and kernel weights are initialized as np.random.uniform(0, 1, (3,3))\n",
    "\n",
    "Pooling: Max Pooling with kernel size=(2, 2), stride=2\n",
    "\n",
    "Fully connected layer: input layer size = (4, 1). Uses the logistic Sigmoid function as activation function in the output layer.\n",
    "\n",
    "#### Find\n",
    "\n",
    "1. Size of the outputs for the convolution- and the pooling layer.\n",
    "2. Values of outputs of each layer before an eventual application of the output activation function during forward propagation.\n",
    "3. Gradient of the loss function wrt. kernel weights in the convolutional layer."
   ]
  },
  {
   "cell_type": "code",
   "execution_count": 1,
   "id": "99b315ff",
   "metadata": {},
   "outputs": [],
   "source": [
    "import numpy as np\n",
    "import matplotlib.pyplot as plt\n",
    "import pandas as pd\n",
    "\n",
    "\n",
    "#### HELPER FUNCTIONS AND DATASTRUCTURES ####\n",
    "conv_vars = {\n",
    "    'conv_padding': 0, \n",
    "    'conv_stride': 1,\n",
    "    'conv_kernel': np.random.uniform(0, 1, (3,3)),  # convolution kernel\n",
    "    'conv_bias': 1,  # bias for convolution layer\n",
    "    'kernel_pool_size': 2,\n",
    "    'kernel_pool_stride': 1,\n",
    "    'weights_fc': np.random.uniform(0, 1, 4),  # weights for fully connected layer,\n",
    "    'bias_fc': 0,  # bias fully connected\n",
    "}\n",
    "\n",
    "cross_indices = [\n",
    "    [2, 0], [2, 1], [2, 2], [2, 3], [2, 4], [0, 2], [1, 2], [2, 2], [3, 2], [4, 2]\n",
    "]\n",
    "rectangle_indices = [\n",
    "    [1, 0] , [1, 1], [1, 2], [1, 3], [1, 4], [2, 4], [3, 4], [3, 3], [3, 2], [3, 1], [3, 0], [2, 0]\n",
    "]\n",
    "\n",
    "def generic_alt(arr):\n",
    "    \"\"\" Create an image with either a square or a cross, to be classified.\n",
    "        Values are random so that the shape is what is to be classified.\"\"\"\n",
    "    num_dots = np.random.randint(1, 3)\n",
    "    label=num_dots-1\n",
    "    if label==0:\n",
    "        # cross\n",
    "        for index in cross_indices:\n",
    "            arr[index[0], index[1]] = np.random.uniform(0, 1)\n",
    "    else:\n",
    "        for index in rectangle_indices:\n",
    "            arr[index[0], index[1]] = np.random.uniform(0, 1)\n",
    "    \n",
    "    return arr, label\n",
    "           \n",
    "def generate_datapoint(size=(5,5)):\n",
    "    \"\"\" Generate an image and its class label, 0 if cross and 1 if rectangle \"\"\"\n",
    "    img, label = generic_alt(np.zeros(size))\n",
    "    return img, label\n",
    "\n",
    "    \n",
    "def visualize_img(arr, label, num=False):\n",
    "    \"\"\" Visualize image \"\"\"\n",
    "    fig, axs = plt.subplots(1,1)\n",
    "    axs.axis(\"off\")\n",
    "    axs.title.set_text(label)\n",
    "    plt.imshow(arr)\n",
    "    if num:\n",
    "        for i in range(arr.shape[1]):\n",
    "            for j in range(arr.shape[0]):\n",
    "                axs.text(j,i,f\"{arr[i,j]:.2f}\",color=\"black\",fontsize=\"small\",ha=\"center\",va=\"center\")\n",
    "    plt.show()\n",
    "    "
   ]
  },
  {
   "cell_type": "code",
   "execution_count": 2,
   "id": "cbf6627e",
   "metadata": {},
   "outputs": [],
   "source": [
    "#### CNN ####\n",
    "    \n",
    "def convolve(X, k=conv_vars['conv_kernel'], p=conv_vars['conv_padding'], s=conv_vars['conv_stride'], b=0):\n",
    "    \"\"\" Perform convolution on input X with kernel k \"\"\"\n",
    "    w_out = (X.shape[0]-k.shape[0]+2*p)//s + 1 \n",
    "    h_out = (X.shape[1]-k.shape[1]+2*p)//s + 1\n",
    "    out = np.empty((w_out, h_out))  # size of output\n",
    "    \n",
    "    for i in range(0, h_out, s):\n",
    "        for j in range(0, w_out, s):\n",
    "            out[i,j] = np.dot(X[i:i+k.shape[1], j:j+k.shape[0]].flatten(), k.flatten()) + b            \n",
    "    return out\n",
    "\n",
    "def relu(x):\n",
    "    \"\"\" ReLU function \"\"\"\n",
    "    return np.max((0, x))\n",
    "\n",
    "def d_relu(x):\n",
    "    \"\"\" ReLU derivative \"\"\"\n",
    "    return np.heaviside(x, 0)  # assume value 0 for d'(0)\n",
    "\n",
    "def bce(f_x, y):\n",
    "    \"\"\" Binary cross entropy loss function \"\"\"\n",
    "    return -(y*np.log(f_x) + (1-y)*np.log(1-f_x))\n",
    "\n",
    "def d_bce(f_x, y, tol_loss=1e-5):\n",
    "    \"\"\" BCE derivative \"\"\"\n",
    "    if 1-f_x < tol_loss: return 0 # round to zero\n",
    "    return (-y/f_x + (1-y)/(1-f_x))\n",
    "\n",
    "def sigmoid(x):\n",
    "    \"\"\" Sigmoid function \"\"\"\n",
    "    ex=np.exp(x)\n",
    "    return ex/(1+ex)\n",
    "\n",
    "def d_sigmoid(x):\n",
    "    \"\"\" Sigmoid Derivative \"\"\"\n",
    "    sig=sigmoid(x)\n",
    "    return sig*(1.0-sig)\n",
    "\n",
    "def max_pooling(X, k_size=conv_vars['kernel_pool_size'], s=conv_vars['kernel_pool_stride']):\n",
    "    \"\"\" Perform max pooling on input X\"\"\"\n",
    "    w_out = (X.shape[0]-k_size)//s + 1\n",
    "    h_out = (X.shape[1]-k_size)//s + 1\n",
    "    out = np.empty((w_out, h_out))\n",
    "\n",
    "    indices = [0]* w_out*h_out # index storage matrix for backpropagation\n",
    "    it = 0\n",
    "    for i in range(0, h_out, s):\n",
    "        for j in range(0, w_out, s):\n",
    "            arr = X[i:i+k_size, j:j+k_size]\n",
    "            out[i,j] = np.max(arr)\n",
    "            indices[it] = np.add(np.unravel_index(arr.argmax(), arr.shape), (i, j)) # store index of max val\n",
    "            it+=1\n",
    "    return out, indices"
   ]
  },
  {
   "cell_type": "markdown",
   "id": "e0bd260d",
   "metadata": {},
   "source": [
    "####  Solution\n",
    "#### Convolution\n",
    "1. We will start with the output of the convolution layer:\n",
    "Each convolution of a subsection of the input with the kernel will result in a sum of products of the two (3,3) matrices, resulting a single output value. With a kernel size (3,3) sliding over the input with size (5,5) with a stride of 1 and zero padding, three strides along each axis will cover the input. Therefore, the output will be a matrix of size (3,3)\n",
    "2. To calculate the output of the convolution layer (before activation), we calculate the convolution of the (3,3)-matrices in each stride, by: \n",
    "$ Conv(i, j) = \\sum_{m}\\sum_{n} X[i + m, j + n] \\cdot k[m, n] $\n",
    "where  (i, j) is the current start index of the subsection of the input, X is the input and k the kernel.\n",
    "\n",
    "Input is generated, and the kernel and result matrix of the convolutions with values are visualized below"
   ]
  },
  {
   "cell_type": "code",
   "execution_count": 3,
   "id": "2da9ec37",
   "metadata": {
    "scrolled": false
   },
   "outputs": [
    {
     "data": {
      "image/png": "[encoded data removed]",
      "text/plain": [
       "<Figure size 640x480 with 1 Axes>"
      ]
     },
     "metadata": {},
     "output_type": "display_data"
    },
    {
     "data": {
      "image/png": "[encoded data removed]",
      "text/plain": [
       "<Figure size 640x480 with 1 Axes>"
      ]
     },
     "metadata": {},
     "output_type": "display_data"
    },
    {
     "data": {
      "image/png": "[encoded data removed]",
      "text/plain": [
       "<Figure size 640x480 with 1 Axes>"
      ]
     },
     "metadata": {},
     "output_type": "display_data"
    }
   ],
   "source": [
    "input_img, y = generate_datapoint()\n",
    "visualize_img(input_img, \"Input Image: \"+'Cross' if y==0 else 'Rectangle')\n",
    "visualize_img(conv_vars['conv_kernel'], \"Convolution Kernel\", num=True)\n",
    "\n",
    "convolved_mat = convolve(input_img)  # convolve\n",
    "visualize_img(convolved_mat, \"Convolution result matrix\", num=True)"
   ]
  },
  {
   "cell_type": "markdown",
   "id": "9e7b7469",
   "metadata": {},
   "source": [
    "#### Pooling\n",
    "1. The resulting matrix from the convolution operation has size=(3,3). With a stride=1, when we slide a pooling kernel over the input matrix (result of convolution after applying ReLU), it will take 2 strides along each axis to cover the input. The output the operation in each stride is a single, maximum value. Therefore, we will have an output of (4,4) after passing the input to the Pooling Layer. \n",
    "2. As mentioned above, the value chosen for the output (2,2) matrix are the respective maximums of each subsection of the input covered by the kernel in the pooling operation."
   ]
  },
  {
   "cell_type": "code",
   "execution_count": 4,
   "id": "a25e6bf6",
   "metadata": {
    "scrolled": false
   },
   "outputs": [
    {
     "data": {
      "image/png": "[encoded data removed]",
      "text/plain": [
       "<Figure size 640x480 with 1 Axes>"
      ]
     },
     "metadata": {},
     "output_type": "display_data"
    }
   ],
   "source": [
    "relu_func = np.vectorize(relu)\n",
    "convolved_mat_relu = relu_func(convolved_mat) # apply relu activation function on output of convolution\n",
    "\n",
    "# perform pooling\n",
    "pooled_mat, pool_indices = max_pooling(convolved_mat_relu)\n",
    "visualize_img(pooled_mat, \"Max Pooled Mat\", num=True)"
   ]
  },
  {
   "cell_type": "markdown",
   "id": "9ef19033",
   "metadata": {},
   "source": [
    "#### Fully Connected Layer\n",
    "1. As this is the last layer of the network, we find the product of the input with their respective weights, add the bias, and get a final, single output value\n",
    "2. The value is found as\n",
    "$ (\\sum_{i} inputfc_i \\cdot w_i) + b $ and is output below"
   ]
  },
  {
   "cell_type": "code",
   "execution_count": 5,
   "id": "0e29d9ed",
   "metadata": {},
   "outputs": [
    {
     "name": "stdout",
     "output_type": "stream",
     "text": [
      "Forward propagated value before sigmoid is applied:  2.024779847051223\n"
     ]
    }
   ],
   "source": [
    "# pass to \"fully connected\" - only one layer \n",
    "input_fc = pooled_mat.flatten()\n",
    "weights_fc = conv_vars[\"weights_fc\"]\n",
    "bias = conv_vars[\"bias_fc\"]\n",
    "\n",
    "z = np.dot(input_fc, weights_fc) + bias\n",
    "print('Forward propagated value before sigmoid is applied: ', str(z))"
   ]
  },
  {
   "cell_type": "markdown",
   "id": "06f96340",
   "metadata": {},
   "source": [
    "3. We now apply the sigmoid function and get the final output, and then start backpropagation by applying the chain rule to find the gradient of the loss function L wrt. the weights and bias. By the chain rule: \n",
    "\n",
    "$ \\frac{dL}{dw} = \\frac{dL}{dF} \\cdot \\frac{dF}{dz} \\cdot \\frac{dz}{dw}   $ where $ \\frac{dz}{dw} = input_{fc} $\n",
    "\n",
    "$ \\frac{dL}{db} = \\frac{dL}{dF} \\cdot \\frac{dF}{dz} \\cdot \\frac{dz}{db}    $ where $  \\frac{dz}{db} = 1 $"
   ]
  },
  {
   "cell_type": "code",
   "execution_count": 6,
   "id": "4081859e",
   "metadata": {
    "scrolled": false
   },
   "outputs": [],
   "source": [
    "F = sigmoid(z)\n",
    "L = bce(F, y)\n",
    "\n",
    "#learn_rate = 0.01\n",
    "\n",
    "dL_dw = d_bce(F,  y)*d_sigmoid(z)*input_fc\n",
    "dL_db = d_bce(F, y)*d_sigmoid(z)*1\n",
    "#print(dL_dw)\n",
    "#print(dL_db)\n",
    "\n",
    "#update weights\n",
    "#conv_vars['weights_fc'] -= learn_rate*dL_dw\n",
    "#conv_vars['bias_fc'] -= learn_rate*dL_db\n"
   ]
  },
  {
   "cell_type": "markdown",
   "id": "c7c15f6c",
   "metadata": {},
   "source": [
    "Next, we backpropagate through the pooling layer, by utilizing indices of max-values found in Max Pooling during forward propagation. This backward pooling of derivatives from the fully connected layer is possible as the max values are the only ones affecting the output/prediction of the network."
   ]
  },
  {
   "cell_type": "code",
   "execution_count": 7,
   "id": "dd1eb7b3",
   "metadata": {},
   "outputs": [
    {
     "data": {
      "image/png": "[encoded data removed]",
      "text/plain": [
       "<Figure size 640x480 with 1 Axes>"
      ]
     },
     "metadata": {},
     "output_type": "display_data"
    }
   ],
   "source": [
    "\n",
    "dP =  np.zeros(convolved_mat_relu.shape)\n",
    "for indices, dw in zip(pool_indices, dL_dw):\n",
    "    # derivative backpropagated through pooling layer, by using saved indices\n",
    "    i, j = indices[0], indices[1]\n",
    "    dP[i, j] = dw\n",
    "    \n",
    "visualize_img(dP, 'Backward propagated derivative through pooling layer', num=True)"
   ]
  },
  {
   "cell_type": "markdown",
   "id": "78f6a7c8",
   "metadata": {},
   "source": [
    "Now we backpropagate the derivatives through the convolution layer. First, we backpropagate through the ReLU activation function by utilizing the derivative (implemented with the heaviside). This (the result of the convolved matrix through ReLU in forward pass) is multiplied with the gradient backpropagated through the pooling layer.\n",
    "\n",
    "Then we backpropagate the gradient through the convolution. Backpropagation through the convolution layer can be achieved by convolving the gradient matrix obtained from backwards propagating through the ReLU function on the input. This results in the gradient kernel below, which can be utilized to update the weights of the convolution kernel by means of gradient descent. The bias derivative is found by summing the values of the gradient matrix achieved from last step."
   ]
  },
  {
   "cell_type": "code",
   "execution_count": 8,
   "id": "fd7e20cc",
   "metadata": {},
   "outputs": [
    {
     "data": {
      "image/png": "[encoded data removed]",
      "text/plain": [
       "<Figure size 640x480 with 1 Axes>"
      ]
     },
     "metadata": {},
     "output_type": "display_data"
    },
    {
     "name": "stdout",
     "output_type": "stream",
     "text": [
      "Backward propagated derivative of loss function wrt. to bias:  4.435486426667023\n"
     ]
    }
   ],
   "source": [
    "# derivative of relu contribution\n",
    "d_relu_func = np.vectorize(d_relu)\n",
    "dR = d_relu_func(convolved_mat) * dP\n",
    "\n",
    "# derivative of loss wrt. input\n",
    "dL_dK = convolve(input_img, k=dR) # use convolution to backpropagate derivatives\n",
    "dL_db = np.sum(dR) # bias term\n",
    "visualize_img(dL_dK, \"Final gradient of loss function wrt. to kernel\", num=True)\n",
    "print(\"Backward propagated derivative of loss function wrt. to bias: \", dL_db)\n",
    "# Update weights of convolution layer\n",
    "#conv_vars['conv_kernel'] -= learn_rate*dL_dF\n",
    "#conv_vars['conv_bias'] -= learn_rate*dL_db"
   ]
  },
  {
   "cell_type": "code",
   "execution_count": null,
   "id": "92cd6471",
   "metadata": {},
   "outputs": [],
   "source": []
  }
 ],
 "metadata": {
  "kernelspec": {
   "display_name": "Python 3 (ipykernel)",
   "language": "python",
   "name": "python3"
  },
  "language_info": {
   "codemirror_mode": {
    "name": "ipython",
    "version": 3
   },
   "file_extension": ".py",
   "mimetype": "text/x-python",
   "name": "python",
   "nbconvert_exporter": "python",
   "pygments_lexer": "ipython3",
   "version": "3.10.7"
  }
 },
 "nbformat": 4,
 "nbformat_minor": 5
}
